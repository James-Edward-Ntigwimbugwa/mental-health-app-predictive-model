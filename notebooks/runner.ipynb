{
 "cells": [
  {
   "cell_type": "code",
   "execution_count": 10,
   "id": "d710177f",
   "metadata": {},
   "outputs": [],
   "source": [
    "import numpy as np\n",
    "import pandas as pd\n",
    "import joblib\n",
    "import sys\n",
    "import os\n",
    "import sys\n",
    "import os\n",
    "sys.path.append(os.path.abspath('.'))  \n",
    "\n",
    "sys.path.append(os.path.abspath('..'))  \n",
    "\n",
    "\n",
    "from src.models.predict_model import StressPredictor\n",
    "from src.features.problem_analyzer import StressProblemAnalyzer\n",
    "from src.features.solution_generator import AIStressSolutionGenerator"
   ]
  },
  {
   "cell_type": "code",
   "execution_count": 12,
   "id": "40f11200",
   "metadata": {},
   "outputs": [],
   "source": [
    "# Initialize the stress predictor\n",
    "# Initialize helper components\n",
    "problem_analyzer = StressProblemAnalyzer()\n",
    "solution_generator = AIStressSolutionGenerator()"
   ]
  }
 ],
 "metadata": {
  "kernelspec": {
   "display_name": "venv",
   "language": "python",
   "name": "python3"
  },
  "language_info": {
   "codemirror_mode": {
    "name": "ipython",
    "version": 3
   },
   "file_extension": ".py",
   "mimetype": "text/x-python",
   "name": "python",
   "nbconvert_exporter": "python",
   "pygments_lexer": "ipython3",
   "version": "3.13.3"
  }
 },
 "nbformat": 4,
 "nbformat_minor": 5
}
